{
 "cells": [
  {
   "cell_type": "markdown",
   "metadata": {},
   "source": [
    "### Monitoring Stations\n",
    "\n",
    "There are 44 air quality monitoring stations that make up the Atmospheric Monitoring System in Mexico City. Each of them is part of at least one of the following networks: Automatic Atmospheric Monitoring Network (RAMA), Atmospheric Deposition Network (REDDA), Meteorology and Solar Radiation Network (REDMET), Manual Atmospheric Monitoring Network (REDMA).\n",
    "\n",
    "For each of the stations the data covers the following:\n",
    "- Key: 3-letter identifier for each station\n",
    "- Name: Name of the station\n",
    "- ID: Unique ID for each station \n",
    "- O3, CO, SO2, NO2, PM10, PM2.5: These are the six pollutants which are key for measuring the AIRE y SALUD index. If any of them is measured at the station, there is a value indicating the distance of the measure (1: less than 100m; 2: between 100 m and 1km; 3: between 1 and 4km; 4: between 4 and 20km; 5: over 20km)\n",
    "- Address: Address of the station\n",
    "- Municipality: Municipality where the station is situated \n",
    "- State: State where the station is situated\n",
    "- Latitude: At what latitude is the station situated\n",
    "- Longitude: At what longitude is the station situated\n",
    "- Altitude: At what altitude is the station situated\n",
    "- Subnetwork: Which network the station is part of\n",
    "- Years Active: How long the station has been active\n",
    "- Parameters: What parameters are measured at each station\n",
    "\n",
    "Source: [City of Mexico](http://www.aire.cdmx.gob.mx/default.php?opc=%27ZaBhnmI=%27&dc=ZA==)"
   ]
  },
  {
   "cell_type": "code",
   "execution_count": 1,
   "metadata": {},
   "outputs": [],
   "source": [
    "# Import statements\n",
    "import pandas as pd\n",
    "import plotly.express as px"
   ]
  },
  {
   "cell_type": "code",
   "execution_count": 6,
   "metadata": {},
   "outputs": [],
   "source": [
    "# Read data\n",
    "stations = pd.read_csv('Monitoring Stations.csv', delimiter = ';', encoding='latin-1')"
   ]
  },
  {
   "cell_type": "code",
   "execution_count": 7,
   "metadata": {},
   "outputs": [
    {
     "name": "stdout",
     "output_type": "stream",
     "text": [
      "<class 'pandas.core.frame.DataFrame'>\n",
      "RangeIndex: 44 entries, 0 to 43\n",
      "Data columns (total 18 columns):\n",
      " #   Column        Non-Null Count  Dtype  \n",
      "---  ------        --------------  -----  \n",
      " 0   Key           44 non-null     object \n",
      " 1   Name          44 non-null     object \n",
      " 2   ID            44 non-null     int64  \n",
      " 3   O3            34 non-null     float64\n",
      " 4   CO            32 non-null     float64\n",
      " 5   SO2           32 non-null     float64\n",
      " 6   NO2           31 non-null     float64\n",
      " 7   PM10          25 non-null     float64\n",
      " 8   PM2.5         21 non-null     float64\n",
      " 9   Address       44 non-null     object \n",
      " 10  Municipality  44 non-null     object \n",
      " 11  State         44 non-null     object \n",
      " 12  Latitude      44 non-null     float64\n",
      " 13  Longitude     44 non-null     float64\n",
      " 14  Altitude      44 non-null     object \n",
      " 15  Subnetwork    44 non-null     object \n",
      " 16  Years Active  44 non-null     object \n",
      " 17  Parameters    44 non-null     object \n",
      "dtypes: float64(8), int64(1), object(9)\n",
      "memory usage: 6.3+ KB\n"
     ]
    }
   ],
   "source": [
    "# Inspect data\n",
    "stations.info()"
   ]
  },
  {
   "cell_type": "code",
   "execution_count": null,
   "metadata": {},
   "outputs": [
    {
     "data": {
      "text/html": [
       "<div>\n",
       "<style scoped>\n",
       "    .dataframe tbody tr th:only-of-type {\n",
       "        vertical-align: middle;\n",
       "    }\n",
       "\n",
       "    .dataframe tbody tr th {\n",
       "        vertical-align: top;\n",
       "    }\n",
       "\n",
       "    .dataframe thead th {\n",
       "        text-align: right;\n",
       "    }\n",
       "</style>\n",
       "<table border=\"1\" class=\"dataframe\">\n",
       "  <thead>\n",
       "    <tr style=\"text-align: right;\">\n",
       "      <th></th>\n",
       "      <th>Key</th>\n",
       "      <th>Name</th>\n",
       "      <th>ID</th>\n",
       "      <th>O3</th>\n",
       "      <th>CO</th>\n",
       "      <th>SO2</th>\n",
       "      <th>NO2</th>\n",
       "      <th>PM10</th>\n",
       "      <th>PM2.5</th>\n",
       "      <th>Address</th>\n",
       "      <th>Municipality</th>\n",
       "      <th>State</th>\n",
       "      <th>Latitude</th>\n",
       "      <th>Longitude</th>\n",
       "      <th>Altitude</th>\n",
       "      <th>Subnetwork</th>\n",
       "      <th>Years Active</th>\n",
       "      <th>Parameters</th>\n",
       "    </tr>\n",
       "  </thead>\n",
       "  <tbody>\n",
       "    <tr>\n",
       "      <th>2</th>\n",
       "      <td>AJM</td>\n",
       "      <td>Ajusco Medio</td>\n",
       "      <td>484090120609</td>\n",
       "      <td>3.0</td>\n",
       "      <td>2.0</td>\n",
       "      <td>4.0</td>\n",
       "      <td>3.0</td>\n",
       "      <td>3.0</td>\n",
       "      <td>4.0</td>\n",
       "      <td>Encinos # 41, col. Miguel Hidalgo 4ta sección,...</td>\n",
       "      <td>Tlalpan</td>\n",
       "      <td>CDMX</td>\n",
       "      <td>19.272100</td>\n",
       "      <td>-99.207658</td>\n",
       "      <td>2619 msnm</td>\n",
       "      <td>RAMA\\nREDMET</td>\n",
       "      <td>2015-actual\\n2015-actual</td>\n",
       "      <td>O3, NOX, NO2, NO, CO, SO2, PM10, PM2.5, PM10-2...</td>\n",
       "    </tr>\n",
       "    <tr>\n",
       "      <th>4</th>\n",
       "      <td>BJU</td>\n",
       "      <td>Benito Juarez</td>\n",
       "      <td>484090140309</td>\n",
       "      <td>3.0</td>\n",
       "      <td>2.0</td>\n",
       "      <td>4.0</td>\n",
       "      <td>3.0</td>\n",
       "      <td>3.0</td>\n",
       "      <td>4.0</td>\n",
       "      <td>Municipio libre y Uxmal, Col. Santa Cruz Atoya...</td>\n",
       "      <td>Benito Juárez</td>\n",
       "      <td>CDMX</td>\n",
       "      <td>19.371612</td>\n",
       "      <td>-99.158969</td>\n",
       "      <td>2250 msnm</td>\n",
       "      <td>RAMA\\nREDMET</td>\n",
       "      <td>2015-actual\\n2015-actual</td>\n",
       "      <td>O3,NO2, CO, SO2, PM10, PM2.5, PM10-2.5\\nVV, DV...</td>\n",
       "    </tr>\n",
       "    <tr>\n",
       "      <th>5</th>\n",
       "      <td>CAM</td>\n",
       "      <td>Camarones</td>\n",
       "      <td>484090020301</td>\n",
       "      <td>3.0</td>\n",
       "      <td>2.0</td>\n",
       "      <td>3.0</td>\n",
       "      <td>3.0</td>\n",
       "      <td>3.0</td>\n",
       "      <td>3.0</td>\n",
       "      <td>Malvón No. 20, Col. Hogar y seguridad, C.P. 02820</td>\n",
       "      <td>Azcapotzalco</td>\n",
       "      <td>CDMX</td>\n",
       "      <td>19.468404</td>\n",
       "      <td>-99.169794</td>\n",
       "      <td>2233 msnm</td>\n",
       "      <td>RAMA</td>\n",
       "      <td>2003-actual</td>\n",
       "      <td>O3, NOX, NO2, NO, CO, SO2, PM10, PM2.5, PM10-2.5</td>\n",
       "    </tr>\n",
       "    <tr>\n",
       "      <th>18</th>\n",
       "      <td>HGM</td>\n",
       "      <td>Hospital General de México</td>\n",
       "      <td>484090150409</td>\n",
       "      <td>3.0</td>\n",
       "      <td>1.0</td>\n",
       "      <td>3.0</td>\n",
       "      <td>3.0</td>\n",
       "      <td>3.0</td>\n",
       "      <td>3.0</td>\n",
       "      <td>Dr. Balmis No.148, Col. Doctores, C.P. 06726</td>\n",
       "      <td>Cuauhtémoc</td>\n",
       "      <td>CDMX</td>\n",
       "      <td>19.411617</td>\n",
       "      <td>-99.152207</td>\n",
       "      <td>2234 msnm</td>\n",
       "      <td>RAMA\\nREDMET</td>\n",
       "      <td>2012-actual\\n2012-actual</td>\n",
       "      <td>O3, NOX, NO2, NO, CO, SO2, PM10, PM2.5, PM10-2...</td>\n",
       "    </tr>\n",
       "    <tr>\n",
       "      <th>26</th>\n",
       "      <td>MER</td>\n",
       "      <td>Merced</td>\n",
       "      <td>484090170127</td>\n",
       "      <td>3.0</td>\n",
       "      <td>2.0</td>\n",
       "      <td>3.0</td>\n",
       "      <td>3.0</td>\n",
       "      <td>3.0</td>\n",
       "      <td>3.0</td>\n",
       "      <td>Congreso de la Unión esq. Stan de Tiro s/n, Co...</td>\n",
       "      <td>Venustiano Carranza</td>\n",
       "      <td>CDMX</td>\n",
       "      <td>19.424610</td>\n",
       "      <td>-99.119594</td>\n",
       "      <td>2245 msnm</td>\n",
       "      <td>RAMA\\nREDMET\\nREDMA</td>\n",
       "      <td>1986-actual\\n1986-actual\\n1989-actual</td>\n",
       "      <td>O3, NOX, NO2, NO, CO, SO2, PM10, PM2.5, PM10-2...</td>\n",
       "    </tr>\n",
       "    <tr>\n",
       "      <th>27</th>\n",
       "      <td>MGH</td>\n",
       "      <td>Miguel Hidalgo</td>\n",
       "      <td>484090160609</td>\n",
       "      <td>3.0</td>\n",
       "      <td>2.0</td>\n",
       "      <td>3.0</td>\n",
       "      <td>3.0</td>\n",
       "      <td>3.0</td>\n",
       "      <td>3.0</td>\n",
       "      <td>Calle Sur 128 No. 53, Col. América, Miguel Hid...</td>\n",
       "      <td>Miguel Hidalgo</td>\n",
       "      <td>CDMX</td>\n",
       "      <td>19.404050</td>\n",
       "      <td>-99.202603</td>\n",
       "      <td>2366 msnm</td>\n",
       "      <td>RAMA\\nREDMET</td>\n",
       "      <td>2015-actual\\n2015-actual</td>\n",
       "      <td>O3, NOX, NO2, NO, CO, SO2, PM10, PM2.5, PM10-2...</td>\n",
       "    </tr>\n",
       "    <tr>\n",
       "      <th>32</th>\n",
       "      <td>PED</td>\n",
       "      <td>Pedregal</td>\n",
       "      <td>484090100127</td>\n",
       "      <td>4.0</td>\n",
       "      <td>2.0</td>\n",
       "      <td>4.0</td>\n",
       "      <td>3.0</td>\n",
       "      <td>3.0</td>\n",
       "      <td>3.0</td>\n",
       "      <td>Cañada No. 370, Col. Jardines del Pedregal, C....</td>\n",
       "      <td>Álvaro Obregón</td>\n",
       "      <td>CDMX</td>\n",
       "      <td>19.325146</td>\n",
       "      <td>-99.204136</td>\n",
       "      <td>2326 msnm</td>\n",
       "      <td>RAMA\\nREDMET\\nREDMA</td>\n",
       "      <td>1986-actual\\n1986-actual\\n1989-actual</td>\n",
       "      <td>O3, NOX, NO2, NO, CO, SO2, PM10, PM2.5, PM10-2...</td>\n",
       "    </tr>\n",
       "    <tr>\n",
       "      <th>33</th>\n",
       "      <td>SAG</td>\n",
       "      <td>San Agustín</td>\n",
       "      <td>484150330327</td>\n",
       "      <td>3.0</td>\n",
       "      <td>2.0</td>\n",
       "      <td>3.0</td>\n",
       "      <td>3.0</td>\n",
       "      <td>3.0</td>\n",
       "      <td>3.0</td>\n",
       "      <td>Av. Santa Rita y Sur 92, Col. San Agustín 3a s...</td>\n",
       "      <td>Ecatepec de Morelos</td>\n",
       "      <td>Estado de México</td>\n",
       "      <td>19.532968</td>\n",
       "      <td>-99.030324</td>\n",
       "      <td>2241 msnm</td>\n",
       "      <td>RAMA\\nREDMET\\nREDMA</td>\n",
       "      <td>1986-actual\\n1986-actual\\n2003-actual</td>\n",
       "      <td>O3, NOX, NO2, NO, CO, SO2, PM10, PM2.5, PM10-2...</td>\n",
       "    </tr>\n",
       "    <tr>\n",
       "      <th>35</th>\n",
       "      <td>SFE</td>\n",
       "      <td>Santa Fe</td>\n",
       "      <td>484090040309</td>\n",
       "      <td>4.0</td>\n",
       "      <td>3.0</td>\n",
       "      <td>4.0</td>\n",
       "      <td>3.0</td>\n",
       "      <td>3.0</td>\n",
       "      <td>4.0</td>\n",
       "      <td>Av. Carlos Lazo s/n, entre Tamaulipas y Sta. F...</td>\n",
       "      <td>Cuajimalpa de Morelos</td>\n",
       "      <td>CDMX</td>\n",
       "      <td>19.357357</td>\n",
       "      <td>-99.262865</td>\n",
       "      <td>2599 msnm</td>\n",
       "      <td>RAMA\\nREDMET</td>\n",
       "      <td>2012-actual\\n2012-actual</td>\n",
       "      <td>O3, NOX, NO2, NO, CO, SO2, PM10, PM2.5, PM10-2...</td>\n",
       "    </tr>\n",
       "    <tr>\n",
       "      <th>38</th>\n",
       "      <td>TLA</td>\n",
       "      <td>Tlalnepantla</td>\n",
       "      <td>484151040115</td>\n",
       "      <td>3.0</td>\n",
       "      <td>1.0</td>\n",
       "      <td>3.0</td>\n",
       "      <td>3.0</td>\n",
       "      <td>3.0</td>\n",
       "      <td>3.0</td>\n",
       "      <td>Glorieta Atlacomulco s/n, Col. Tlalnemex, C.P....</td>\n",
       "      <td>Tlalnepantla de Baz</td>\n",
       "      <td>Estado de México</td>\n",
       "      <td>19.529077</td>\n",
       "      <td>-99.204597</td>\n",
       "      <td>2311 msnm</td>\n",
       "      <td>RAMA\\nREDMET\\nREDMA\\nREDDA</td>\n",
       "      <td>1986-actual\\n1986-actual\\n1989-actual\\n1989-ac...</td>\n",
       "      <td>O3, NOX, NO2, NO, CO, SO2, PM10, PM2.5, PM10-2...</td>\n",
       "    </tr>\n",
       "    <tr>\n",
       "      <th>40</th>\n",
       "      <td>UIZ</td>\n",
       "      <td>UAM Iztapalapa</td>\n",
       "      <td>484090070219</td>\n",
       "      <td>3.0</td>\n",
       "      <td>2.0</td>\n",
       "      <td>3.0</td>\n",
       "      <td>3.0</td>\n",
       "      <td>3.0</td>\n",
       "      <td>3.0</td>\n",
       "      <td>San Rafael Atlixco No. 180, Col. Vicentina, C....</td>\n",
       "      <td>Iztapalapa</td>\n",
       "      <td>CDMX</td>\n",
       "      <td>19.360794</td>\n",
       "      <td>-99.073880</td>\n",
       "      <td>2221 msnm</td>\n",
       "      <td>RAMA\\nREDMET\\nREDMA</td>\n",
       "      <td>1987-actual\\n\\n1989-actual</td>\n",
       "      <td>O3, NOX, NO2, NO, CO, SO2, PM10, PM2.5, PM10-2...</td>\n",
       "    </tr>\n",
       "    <tr>\n",
       "      <th>43</th>\n",
       "      <td>XAL</td>\n",
       "      <td>Xalostoc</td>\n",
       "      <td>484150330415</td>\n",
       "      <td>2.0</td>\n",
       "      <td>1.0</td>\n",
       "      <td>2.0</td>\n",
       "      <td>2.0</td>\n",
       "      <td>2.0</td>\n",
       "      <td>2.0</td>\n",
       "      <td>Vía Morelos km 12.5, Col. Xalostoc, entre Lópe...</td>\n",
       "      <td>Ecatepec de Morelos</td>\n",
       "      <td>Estado de México</td>\n",
       "      <td>19.525995</td>\n",
       "      <td>-99.082400</td>\n",
       "      <td>2160 msnm</td>\n",
       "      <td>RAMA\\nREDMET\\nREDMA\\nREDDA</td>\n",
       "      <td>1986-actual\\n1986-actual\\n1989-actual\\n1989-ac...</td>\n",
       "      <td>O3, NOX, NO2, NO, CO, SO2, PM10, PM2.5, PM10-2...</td>\n",
       "    </tr>\n",
       "  </tbody>\n",
       "</table>\n",
       "</div>"
      ],
      "text/plain": [
       "    Key                        Name            ID   O3   CO  SO2  NO2  PM10  \\\n",
       "2   AJM                Ajusco Medio  484090120609  3.0  2.0  4.0  3.0   3.0   \n",
       "4   BJU               Benito Juarez  484090140309  3.0  2.0  4.0  3.0   3.0   \n",
       "5   CAM                   Camarones  484090020301  3.0  2.0  3.0  3.0   3.0   \n",
       "18  HGM  Hospital General de México  484090150409  3.0  1.0  3.0  3.0   3.0   \n",
       "26  MER                      Merced  484090170127  3.0  2.0  3.0  3.0   3.0   \n",
       "27  MGH              Miguel Hidalgo  484090160609  3.0  2.0  3.0  3.0   3.0   \n",
       "32  PED                    Pedregal  484090100127  4.0  2.0  4.0  3.0   3.0   \n",
       "33  SAG                 San Agustín  484150330327  3.0  2.0  3.0  3.0   3.0   \n",
       "35  SFE                    Santa Fe  484090040309  4.0  3.0  4.0  3.0   3.0   \n",
       "38  TLA                Tlalnepantla  484151040115  3.0  1.0  3.0  3.0   3.0   \n",
       "40  UIZ              UAM Iztapalapa  484090070219  3.0  2.0  3.0  3.0   3.0   \n",
       "43  XAL                    Xalostoc  484150330415  2.0  1.0  2.0  2.0   2.0   \n",
       "\n",
       "    PM2.5                                            Address  \\\n",
       "2     4.0  Encinos # 41, col. Miguel Hidalgo 4ta sección,...   \n",
       "4     4.0  Municipio libre y Uxmal, Col. Santa Cruz Atoya...   \n",
       "5     3.0  Malvón No. 20, Col. Hogar y seguridad, C.P. 02820   \n",
       "18    3.0       Dr. Balmis No.148, Col. Doctores, C.P. 06726   \n",
       "26    3.0  Congreso de la Unión esq. Stan de Tiro s/n, Co...   \n",
       "27    3.0  Calle Sur 128 No. 53, Col. América, Miguel Hid...   \n",
       "32    3.0  Cañada No. 370, Col. Jardines del Pedregal, C....   \n",
       "33    3.0  Av. Santa Rita y Sur 92, Col. San Agustín 3a s...   \n",
       "35    4.0  Av. Carlos Lazo s/n, entre Tamaulipas y Sta. F...   \n",
       "38    3.0  Glorieta Atlacomulco s/n, Col. Tlalnemex, C.P....   \n",
       "40    3.0  San Rafael Atlixco No. 180, Col. Vicentina, C....   \n",
       "43    2.0  Vía Morelos km 12.5, Col. Xalostoc, entre Lópe...   \n",
       "\n",
       "             Municipality             State   Latitude  Longitude   Altitude  \\\n",
       "2                 Tlalpan              CDMX  19.272100 -99.207658  2619 msnm   \n",
       "4           Benito Juárez              CDMX  19.371612 -99.158969  2250 msnm   \n",
       "5            Azcapotzalco              CDMX  19.468404 -99.169794  2233 msnm   \n",
       "18             Cuauhtémoc              CDMX  19.411617 -99.152207  2234 msnm   \n",
       "26    Venustiano Carranza              CDMX  19.424610 -99.119594  2245 msnm   \n",
       "27         Miguel Hidalgo              CDMX  19.404050 -99.202603  2366 msnm   \n",
       "32         Álvaro Obregón              CDMX  19.325146 -99.204136  2326 msnm   \n",
       "33    Ecatepec de Morelos  Estado de México  19.532968 -99.030324  2241 msnm   \n",
       "35  Cuajimalpa de Morelos              CDMX  19.357357 -99.262865  2599 msnm   \n",
       "38    Tlalnepantla de Baz  Estado de México  19.529077 -99.204597  2311 msnm   \n",
       "40             Iztapalapa              CDMX  19.360794 -99.073880  2221 msnm   \n",
       "43    Ecatepec de Morelos  Estado de México  19.525995 -99.082400  2160 msnm   \n",
       "\n",
       "                    Subnetwork  \\\n",
       "2                 RAMA\\nREDMET   \n",
       "4                 RAMA\\nREDMET   \n",
       "5                         RAMA   \n",
       "18                RAMA\\nREDMET   \n",
       "26         RAMA\\nREDMET\\nREDMA   \n",
       "27                RAMA\\nREDMET   \n",
       "32         RAMA\\nREDMET\\nREDMA   \n",
       "33         RAMA\\nREDMET\\nREDMA   \n",
       "35                RAMA\\nREDMET   \n",
       "38  RAMA\\nREDMET\\nREDMA\\nREDDA   \n",
       "40         RAMA\\nREDMET\\nREDMA   \n",
       "43  RAMA\\nREDMET\\nREDMA\\nREDDA   \n",
       "\n",
       "                                         Years Active  \\\n",
       "2                            2015-actual\\n2015-actual   \n",
       "4                            2015-actual\\n2015-actual   \n",
       "5                                         2003-actual   \n",
       "18                           2012-actual\\n2012-actual   \n",
       "26              1986-actual\\n1986-actual\\n1989-actual   \n",
       "27                           2015-actual\\n2015-actual   \n",
       "32              1986-actual\\n1986-actual\\n1989-actual   \n",
       "33              1986-actual\\n1986-actual\\n2003-actual   \n",
       "35                           2012-actual\\n2012-actual   \n",
       "38  1986-actual\\n1986-actual\\n1989-actual\\n1989-ac...   \n",
       "40                         1987-actual\\n\\n1989-actual   \n",
       "43  1986-actual\\n1986-actual\\n1989-actual\\n1989-ac...   \n",
       "\n",
       "                                           Parameters  \n",
       "2   O3, NOX, NO2, NO, CO, SO2, PM10, PM2.5, PM10-2...  \n",
       "4   O3,NO2, CO, SO2, PM10, PM2.5, PM10-2.5\\nVV, DV...  \n",
       "5    O3, NOX, NO2, NO, CO, SO2, PM10, PM2.5, PM10-2.5  \n",
       "18  O3, NOX, NO2, NO, CO, SO2, PM10, PM2.5, PM10-2...  \n",
       "26  O3, NOX, NO2, NO, CO, SO2, PM10, PM2.5, PM10-2...  \n",
       "27  O3, NOX, NO2, NO, CO, SO2, PM10, PM2.5, PM10-2...  \n",
       "32  O3, NOX, NO2, NO, CO, SO2, PM10, PM2.5, PM10-2...  \n",
       "33  O3, NOX, NO2, NO, CO, SO2, PM10, PM2.5, PM10-2...  \n",
       "35  O3, NOX, NO2, NO, CO, SO2, PM10, PM2.5, PM10-2...  \n",
       "38  O3, NOX, NO2, NO, CO, SO2, PM10, PM2.5, PM10-2...  \n",
       "40  O3, NOX, NO2, NO, CO, SO2, PM10, PM2.5, PM10-2...  \n",
       "43  O3, NOX, NO2, NO, CO, SO2, PM10, PM2.5, PM10-2...  "
      ]
     },
     "execution_count": 13,
     "metadata": {},
     "output_type": "execute_result"
    }
   ],
   "source": [
    "# Select the stations that report on all six key pollutants\n",
    "stations[(stations['O3']>0) & (stations['CO']>0) & (stations['SO2']>0) & (stations['NO2']>0) & (stations['PM10']>0) & (stations['PM2.5']>0)]"
   ]
  },
  {
   "cell_type": "code",
   "execution_count": null,
   "metadata": {},
   "outputs": [
    {
     "data": {
      "application/vnd.plotly.v1+json": {
       "config": {
        "plotlyServerURL": "https://plot.ly"
       },
       "data": [
        {
         "hovertemplate": "Key=%{text}<br>Latitude=%{lat}<br>Longitude=%{lon}<extra></extra>",
         "lat": [
          19.635501,
          19.154674,
          19.2721,
          19.576963,
          19.371612,
          19.468404,
          19.3262,
          19.487227,
          19.266948,
          19.265346,
          19.365313,
          19.64678,
          19.298819,
          19.271222,
          19.313357,
          19.482473,
          19.473692,
          19.4827,
          19.411617,
          19.291968,
          19.384413,
          19.534727,
          19.483781,
          19.443319,
          19.403,
          19.578792,
          19.42461,
          19.40405,
          19.1769,
          19.460415,
          19.429071,
          19.393734,
          19.325146,
          19.532968,
          19.250385,
          19.357357,
          19.34561,
          19.246459,
          19.529077,
          19.602542,
          19.360794,
          19.304441,
          19.658223,
          19.525995
         ],
         "legendgroup": "",
         "lon": [
          -98.912003,
          -99.162459,
          -99.207658,
          -99.254133,
          -99.158969,
          -99.169794,
          -99.1761,
          -99.114229,
          -98.886088,
          -99.02604,
          -99.291705,
          -99.21024,
          -99.185774,
          -99.203971,
          -99.310635,
          -99.243524,
          -99.046176,
          -99.094517,
          -99.152207,
          -99.38052,
          -99.117641,
          -99.11772,
          -99.147312,
          -99.21536,
          -99.242062,
          -99.039644,
          -99.119594,
          -99.202603,
          -98.990189,
          -98.902853,
          -99.131924,
          -99.028212,
          -99.204136,
          -99.030324,
          -99.256462,
          -99.262865,
          -99.009381,
          -99.010564,
          -99.204597,
          -99.177173,
          -99.07388,
          -99.103629,
          -99.09659,
          -99.0824
         ],
         "marker": {
          "color": "#636efa"
         },
         "mode": "markers+text",
         "name": "",
         "showlegend": false,
         "subplot": "mapbox",
         "text": [
          "ACO",
          "AJU",
          "AJM",
          "ATI",
          "BJU",
          "CAM",
          "CCA",
          "TEC",
          "CHO",
          "COR",
          "CUA",
          "CUT",
          "DIC",
          "EAJ",
          "EDL",
          "FAC",
          "FAR",
          "GAM",
          "HGM",
          "INN",
          "IZT",
          "LPR",
          "LAA",
          "IBM",
          "LOM",
          "LLA",
          "MER",
          "MGH",
          "MPA",
          "MON",
          "MCM",
          "NEZ",
          "PED",
          "SAG",
          "SNT",
          "SFE",
          "SAC",
          "TAH",
          "TLA",
          "TLI",
          "UIZ",
          "UAX",
          "VIF",
          "XAL"
         ],
         "type": "scattermapbox"
        }
       ],
       "layout": {
        "legend": {
         "tracegroupgap": 0
        },
        "mapbox": {
         "center": {
          "lat": 41,
          "lon": -99.13531493181819
         },
         "domain": {
          "x": [
           0,
           1
          ],
          "y": [
           0,
           1
          ]
         },
         "style": "open-street-map",
         "zoom": 8
        },
        "margin": {
         "b": 0,
         "l": 0,
         "r": 0,
         "t": 0
        },
        "template": {
         "data": {
          "bar": [
           {
            "error_x": {
             "color": "#2a3f5f"
            },
            "error_y": {
             "color": "#2a3f5f"
            },
            "marker": {
             "line": {
              "color": "#E5ECF6",
              "width": 0.5
             },
             "pattern": {
              "fillmode": "overlay",
              "size": 10,
              "solidity": 0.2
             }
            },
            "type": "bar"
           }
          ],
          "barpolar": [
           {
            "marker": {
             "line": {
              "color": "#E5ECF6",
              "width": 0.5
             },
             "pattern": {
              "fillmode": "overlay",
              "size": 10,
              "solidity": 0.2
             }
            },
            "type": "barpolar"
           }
          ],
          "carpet": [
           {
            "aaxis": {
             "endlinecolor": "#2a3f5f",
             "gridcolor": "white",
             "linecolor": "white",
             "minorgridcolor": "white",
             "startlinecolor": "#2a3f5f"
            },
            "baxis": {
             "endlinecolor": "#2a3f5f",
             "gridcolor": "white",
             "linecolor": "white",
             "minorgridcolor": "white",
             "startlinecolor": "#2a3f5f"
            },
            "type": "carpet"
           }
          ],
          "choropleth": [
           {
            "colorbar": {
             "outlinewidth": 0,
             "ticks": ""
            },
            "type": "choropleth"
           }
          ],
          "contour": [
           {
            "colorbar": {
             "outlinewidth": 0,
             "ticks": ""
            },
            "colorscale": [
             [
              0,
              "#0d0887"
             ],
             [
              0.1111111111111111,
              "#46039f"
             ],
             [
              0.2222222222222222,
              "#7201a8"
             ],
             [
              0.3333333333333333,
              "#9c179e"
             ],
             [
              0.4444444444444444,
              "#bd3786"
             ],
             [
              0.5555555555555556,
              "#d8576b"
             ],
             [
              0.6666666666666666,
              "#ed7953"
             ],
             [
              0.7777777777777778,
              "#fb9f3a"
             ],
             [
              0.8888888888888888,
              "#fdca26"
             ],
             [
              1,
              "#f0f921"
             ]
            ],
            "type": "contour"
           }
          ],
          "contourcarpet": [
           {
            "colorbar": {
             "outlinewidth": 0,
             "ticks": ""
            },
            "type": "contourcarpet"
           }
          ],
          "heatmap": [
           {
            "colorbar": {
             "outlinewidth": 0,
             "ticks": ""
            },
            "colorscale": [
             [
              0,
              "#0d0887"
             ],
             [
              0.1111111111111111,
              "#46039f"
             ],
             [
              0.2222222222222222,
              "#7201a8"
             ],
             [
              0.3333333333333333,
              "#9c179e"
             ],
             [
              0.4444444444444444,
              "#bd3786"
             ],
             [
              0.5555555555555556,
              "#d8576b"
             ],
             [
              0.6666666666666666,
              "#ed7953"
             ],
             [
              0.7777777777777778,
              "#fb9f3a"
             ],
             [
              0.8888888888888888,
              "#fdca26"
             ],
             [
              1,
              "#f0f921"
             ]
            ],
            "type": "heatmap"
           }
          ],
          "heatmapgl": [
           {
            "colorbar": {
             "outlinewidth": 0,
             "ticks": ""
            },
            "colorscale": [
             [
              0,
              "#0d0887"
             ],
             [
              0.1111111111111111,
              "#46039f"
             ],
             [
              0.2222222222222222,
              "#7201a8"
             ],
             [
              0.3333333333333333,
              "#9c179e"
             ],
             [
              0.4444444444444444,
              "#bd3786"
             ],
             [
              0.5555555555555556,
              "#d8576b"
             ],
             [
              0.6666666666666666,
              "#ed7953"
             ],
             [
              0.7777777777777778,
              "#fb9f3a"
             ],
             [
              0.8888888888888888,
              "#fdca26"
             ],
             [
              1,
              "#f0f921"
             ]
            ],
            "type": "heatmapgl"
           }
          ],
          "histogram": [
           {
            "marker": {
             "pattern": {
              "fillmode": "overlay",
              "size": 10,
              "solidity": 0.2
             }
            },
            "type": "histogram"
           }
          ],
          "histogram2d": [
           {
            "colorbar": {
             "outlinewidth": 0,
             "ticks": ""
            },
            "colorscale": [
             [
              0,
              "#0d0887"
             ],
             [
              0.1111111111111111,
              "#46039f"
             ],
             [
              0.2222222222222222,
              "#7201a8"
             ],
             [
              0.3333333333333333,
              "#9c179e"
             ],
             [
              0.4444444444444444,
              "#bd3786"
             ],
             [
              0.5555555555555556,
              "#d8576b"
             ],
             [
              0.6666666666666666,
              "#ed7953"
             ],
             [
              0.7777777777777778,
              "#fb9f3a"
             ],
             [
              0.8888888888888888,
              "#fdca26"
             ],
             [
              1,
              "#f0f921"
             ]
            ],
            "type": "histogram2d"
           }
          ],
          "histogram2dcontour": [
           {
            "colorbar": {
             "outlinewidth": 0,
             "ticks": ""
            },
            "colorscale": [
             [
              0,
              "#0d0887"
             ],
             [
              0.1111111111111111,
              "#46039f"
             ],
             [
              0.2222222222222222,
              "#7201a8"
             ],
             [
              0.3333333333333333,
              "#9c179e"
             ],
             [
              0.4444444444444444,
              "#bd3786"
             ],
             [
              0.5555555555555556,
              "#d8576b"
             ],
             [
              0.6666666666666666,
              "#ed7953"
             ],
             [
              0.7777777777777778,
              "#fb9f3a"
             ],
             [
              0.8888888888888888,
              "#fdca26"
             ],
             [
              1,
              "#f0f921"
             ]
            ],
            "type": "histogram2dcontour"
           }
          ],
          "mesh3d": [
           {
            "colorbar": {
             "outlinewidth": 0,
             "ticks": ""
            },
            "type": "mesh3d"
           }
          ],
          "parcoords": [
           {
            "line": {
             "colorbar": {
              "outlinewidth": 0,
              "ticks": ""
             }
            },
            "type": "parcoords"
           }
          ],
          "pie": [
           {
            "automargin": true,
            "type": "pie"
           }
          ],
          "scatter": [
           {
            "fillpattern": {
             "fillmode": "overlay",
             "size": 10,
             "solidity": 0.2
            },
            "type": "scatter"
           }
          ],
          "scatter3d": [
           {
            "line": {
             "colorbar": {
              "outlinewidth": 0,
              "ticks": ""
             }
            },
            "marker": {
             "colorbar": {
              "outlinewidth": 0,
              "ticks": ""
             }
            },
            "type": "scatter3d"
           }
          ],
          "scattercarpet": [
           {
            "marker": {
             "colorbar": {
              "outlinewidth": 0,
              "ticks": ""
             }
            },
            "type": "scattercarpet"
           }
          ],
          "scattergeo": [
           {
            "marker": {
             "colorbar": {
              "outlinewidth": 0,
              "ticks": ""
             }
            },
            "type": "scattergeo"
           }
          ],
          "scattergl": [
           {
            "marker": {
             "colorbar": {
              "outlinewidth": 0,
              "ticks": ""
             }
            },
            "type": "scattergl"
           }
          ],
          "scattermapbox": [
           {
            "marker": {
             "colorbar": {
              "outlinewidth": 0,
              "ticks": ""
             }
            },
            "type": "scattermapbox"
           }
          ],
          "scatterpolar": [
           {
            "marker": {
             "colorbar": {
              "outlinewidth": 0,
              "ticks": ""
             }
            },
            "type": "scatterpolar"
           }
          ],
          "scatterpolargl": [
           {
            "marker": {
             "colorbar": {
              "outlinewidth": 0,
              "ticks": ""
             }
            },
            "type": "scatterpolargl"
           }
          ],
          "scatterternary": [
           {
            "marker": {
             "colorbar": {
              "outlinewidth": 0,
              "ticks": ""
             }
            },
            "type": "scatterternary"
           }
          ],
          "surface": [
           {
            "colorbar": {
             "outlinewidth": 0,
             "ticks": ""
            },
            "colorscale": [
             [
              0,
              "#0d0887"
             ],
             [
              0.1111111111111111,
              "#46039f"
             ],
             [
              0.2222222222222222,
              "#7201a8"
             ],
             [
              0.3333333333333333,
              "#9c179e"
             ],
             [
              0.4444444444444444,
              "#bd3786"
             ],
             [
              0.5555555555555556,
              "#d8576b"
             ],
             [
              0.6666666666666666,
              "#ed7953"
             ],
             [
              0.7777777777777778,
              "#fb9f3a"
             ],
             [
              0.8888888888888888,
              "#fdca26"
             ],
             [
              1,
              "#f0f921"
             ]
            ],
            "type": "surface"
           }
          ],
          "table": [
           {
            "cells": {
             "fill": {
              "color": "#EBF0F8"
             },
             "line": {
              "color": "white"
             }
            },
            "header": {
             "fill": {
              "color": "#C8D4E3"
             },
             "line": {
              "color": "white"
             }
            },
            "type": "table"
           }
          ]
         },
         "layout": {
          "annotationdefaults": {
           "arrowcolor": "#2a3f5f",
           "arrowhead": 0,
           "arrowwidth": 1
          },
          "autotypenumbers": "strict",
          "coloraxis": {
           "colorbar": {
            "outlinewidth": 0,
            "ticks": ""
           }
          },
          "colorscale": {
           "diverging": [
            [
             0,
             "#8e0152"
            ],
            [
             0.1,
             "#c51b7d"
            ],
            [
             0.2,
             "#de77ae"
            ],
            [
             0.3,
             "#f1b6da"
            ],
            [
             0.4,
             "#fde0ef"
            ],
            [
             0.5,
             "#f7f7f7"
            ],
            [
             0.6,
             "#e6f5d0"
            ],
            [
             0.7,
             "#b8e186"
            ],
            [
             0.8,
             "#7fbc41"
            ],
            [
             0.9,
             "#4d9221"
            ],
            [
             1,
             "#276419"
            ]
           ],
           "sequential": [
            [
             0,
             "#0d0887"
            ],
            [
             0.1111111111111111,
             "#46039f"
            ],
            [
             0.2222222222222222,
             "#7201a8"
            ],
            [
             0.3333333333333333,
             "#9c179e"
            ],
            [
             0.4444444444444444,
             "#bd3786"
            ],
            [
             0.5555555555555556,
             "#d8576b"
            ],
            [
             0.6666666666666666,
             "#ed7953"
            ],
            [
             0.7777777777777778,
             "#fb9f3a"
            ],
            [
             0.8888888888888888,
             "#fdca26"
            ],
            [
             1,
             "#f0f921"
            ]
           ],
           "sequentialminus": [
            [
             0,
             "#0d0887"
            ],
            [
             0.1111111111111111,
             "#46039f"
            ],
            [
             0.2222222222222222,
             "#7201a8"
            ],
            [
             0.3333333333333333,
             "#9c179e"
            ],
            [
             0.4444444444444444,
             "#bd3786"
            ],
            [
             0.5555555555555556,
             "#d8576b"
            ],
            [
             0.6666666666666666,
             "#ed7953"
            ],
            [
             0.7777777777777778,
             "#fb9f3a"
            ],
            [
             0.8888888888888888,
             "#fdca26"
            ],
            [
             1,
             "#f0f921"
            ]
           ]
          },
          "colorway": [
           "#636efa",
           "#EF553B",
           "#00cc96",
           "#ab63fa",
           "#FFA15A",
           "#19d3f3",
           "#FF6692",
           "#B6E880",
           "#FF97FF",
           "#FECB52"
          ],
          "font": {
           "color": "#2a3f5f"
          },
          "geo": {
           "bgcolor": "white",
           "lakecolor": "white",
           "landcolor": "#E5ECF6",
           "showlakes": true,
           "showland": true,
           "subunitcolor": "white"
          },
          "hoverlabel": {
           "align": "left"
          },
          "hovermode": "closest",
          "mapbox": {
           "style": "light"
          },
          "paper_bgcolor": "white",
          "plot_bgcolor": "#E5ECF6",
          "polar": {
           "angularaxis": {
            "gridcolor": "white",
            "linecolor": "white",
            "ticks": ""
           },
           "bgcolor": "#E5ECF6",
           "radialaxis": {
            "gridcolor": "white",
            "linecolor": "white",
            "ticks": ""
           }
          },
          "scene": {
           "xaxis": {
            "backgroundcolor": "#E5ECF6",
            "gridcolor": "white",
            "gridwidth": 2,
            "linecolor": "white",
            "showbackground": true,
            "ticks": "",
            "zerolinecolor": "white"
           },
           "yaxis": {
            "backgroundcolor": "#E5ECF6",
            "gridcolor": "white",
            "gridwidth": 2,
            "linecolor": "white",
            "showbackground": true,
            "ticks": "",
            "zerolinecolor": "white"
           },
           "zaxis": {
            "backgroundcolor": "#E5ECF6",
            "gridcolor": "white",
            "gridwidth": 2,
            "linecolor": "white",
            "showbackground": true,
            "ticks": "",
            "zerolinecolor": "white"
           }
          },
          "shapedefaults": {
           "line": {
            "color": "#2a3f5f"
           }
          },
          "ternary": {
           "aaxis": {
            "gridcolor": "white",
            "linecolor": "white",
            "ticks": ""
           },
           "baxis": {
            "gridcolor": "white",
            "linecolor": "white",
            "ticks": ""
           },
           "bgcolor": "#E5ECF6",
           "caxis": {
            "gridcolor": "white",
            "linecolor": "white",
            "ticks": ""
           }
          },
          "title": {
           "x": 0.05
          },
          "xaxis": {
           "automargin": true,
           "gridcolor": "white",
           "linecolor": "white",
           "ticks": "",
           "title": {
            "standoff": 15
           },
           "zerolinecolor": "white",
           "zerolinewidth": 2
          },
          "yaxis": {
           "automargin": true,
           "gridcolor": "white",
           "linecolor": "white",
           "ticks": "",
           "title": {
            "standoff": 15
           },
           "zerolinecolor": "white",
           "zerolinewidth": 2
          }
         }
        }
       }
      }
     },
     "metadata": {},
     "output_type": "display_data"
    }
   ],
   "source": [
    "# Plot an interactive map of the monitoring stations\n",
    "fig = px.scatter_mapbox(stations, lon = 'Longitude', lat = 'Latitude', text = 'Key')\n",
    "fig.update_layout(mapbox_style='open-street-map', mapbox_zoom=8, mapbox_center_lat = 41,\n",
    "    margin={\"r\":0,\"t\":0,\"l\":0,\"b\":0})\n",
    "fig.show()"
   ]
  }
 ],
 "metadata": {
  "kernelspec": {
   "display_name": "base",
   "language": "python",
   "name": "python3"
  },
  "language_info": {
   "codemirror_mode": {
    "name": "ipython",
    "version": 3
   },
   "file_extension": ".py",
   "mimetype": "text/x-python",
   "name": "python",
   "nbconvert_exporter": "python",
   "pygments_lexer": "ipython3",
   "version": "3.12.4"
  }
 },
 "nbformat": 4,
 "nbformat_minor": 2
}
